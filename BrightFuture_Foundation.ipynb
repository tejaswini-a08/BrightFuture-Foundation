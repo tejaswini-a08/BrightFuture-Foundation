{
  "nbformat": 4,
  "nbformat_minor": 0,
  "metadata": {
    "colab": {
      "provenance": [],
      "toc_visible": true,
      "authorship_tag": "ABX9TyPZ0U8EsV0xqSvP9kgOKK1u",
      "include_colab_link": true
    },
    "kernelspec": {
      "name": "python3",
      "display_name": "Python 3"
    },
    "language_info": {
      "name": "python"
    }
  },
  "cells": [
    {
      "cell_type": "markdown",
      "metadata": {
        "id": "view-in-github",
        "colab_type": "text"
      },
      "source": [
        "<a href=\"https://colab.research.google.com/github/tejaswini-a08/LangChain/blob/main/BrightFuture_Foundation.ipynb\" target=\"_parent\"><img src=\"https://colab.research.google.com/assets/colab-badge.svg\" alt=\"Open In Colab\"/></a>"
      ]
    },
    {
      "cell_type": "markdown",
      "source": [
        "#Database Setup"
      ],
      "metadata": {
        "id": "PgasAaBUAy4R"
      }
    },
    {
      "cell_type": "code",
      "source": [
        "    %pip install ipython-sql"
      ],
      "metadata": {
        "colab": {
          "base_uri": "https://localhost:8080/"
        },
        "id": "XGHrlnZ-5kUP",
        "outputId": "24121c91-39a3-4421-f5b0-f3b9075cacff"
      },
      "execution_count": 37,
      "outputs": [
        {
          "output_type": "stream",
          "name": "stdout",
          "text": [
            "Requirement already satisfied: ipython-sql in /usr/local/lib/python3.11/dist-packages (0.5.0)\n",
            "Requirement already satisfied: prettytable in /usr/local/lib/python3.11/dist-packages (from ipython-sql) (3.16.0)\n",
            "Requirement already satisfied: ipython in /usr/local/lib/python3.11/dist-packages (from ipython-sql) (7.34.0)\n",
            "Requirement already satisfied: sqlalchemy>=2.0 in /usr/local/lib/python3.11/dist-packages (from ipython-sql) (2.0.43)\n",
            "Requirement already satisfied: sqlparse in /usr/local/lib/python3.11/dist-packages (from ipython-sql) (0.5.3)\n",
            "Requirement already satisfied: six in /usr/local/lib/python3.11/dist-packages (from ipython-sql) (1.17.0)\n",
            "Requirement already satisfied: ipython-genutils in /usr/local/lib/python3.11/dist-packages (from ipython-sql) (0.2.0)\n",
            "Requirement already satisfied: greenlet>=1 in /usr/local/lib/python3.11/dist-packages (from sqlalchemy>=2.0->ipython-sql) (3.2.4)\n",
            "Requirement already satisfied: typing-extensions>=4.6.0 in /usr/local/lib/python3.11/dist-packages (from sqlalchemy>=2.0->ipython-sql) (4.14.1)\n",
            "Requirement already satisfied: setuptools>=18.5 in /usr/local/lib/python3.11/dist-packages (from ipython->ipython-sql) (75.2.0)\n",
            "Requirement already satisfied: jedi>=0.16 in /usr/local/lib/python3.11/dist-packages (from ipython->ipython-sql) (0.19.2)\n",
            "Requirement already satisfied: decorator in /usr/local/lib/python3.11/dist-packages (from ipython->ipython-sql) (4.4.2)\n",
            "Requirement already satisfied: pickleshare in /usr/local/lib/python3.11/dist-packages (from ipython->ipython-sql) (0.7.5)\n",
            "Requirement already satisfied: traitlets>=4.2 in /usr/local/lib/python3.11/dist-packages (from ipython->ipython-sql) (5.7.1)\n",
            "Requirement already satisfied: prompt-toolkit!=3.0.0,!=3.0.1,<3.1.0,>=2.0.0 in /usr/local/lib/python3.11/dist-packages (from ipython->ipython-sql) (3.0.51)\n",
            "Requirement already satisfied: pygments in /usr/local/lib/python3.11/dist-packages (from ipython->ipython-sql) (2.19.2)\n",
            "Requirement already satisfied: backcall in /usr/local/lib/python3.11/dist-packages (from ipython->ipython-sql) (0.2.0)\n",
            "Requirement already satisfied: matplotlib-inline in /usr/local/lib/python3.11/dist-packages (from ipython->ipython-sql) (0.1.7)\n",
            "Requirement already satisfied: pexpect>4.3 in /usr/local/lib/python3.11/dist-packages (from ipython->ipython-sql) (4.9.0)\n",
            "Requirement already satisfied: wcwidth in /usr/local/lib/python3.11/dist-packages (from prettytable->ipython-sql) (0.2.13)\n",
            "Requirement already satisfied: parso<0.9.0,>=0.8.4 in /usr/local/lib/python3.11/dist-packages (from jedi>=0.16->ipython->ipython-sql) (0.8.4)\n",
            "Requirement already satisfied: ptyprocess>=0.5 in /usr/local/lib/python3.11/dist-packages (from pexpect>4.3->ipython->ipython-sql) (0.7.0)\n"
          ]
        }
      ]
    },
    {
      "cell_type": "code",
      "source": [
        "    %load_ext sql"
      ],
      "metadata": {
        "colab": {
          "base_uri": "https://localhost:8080/"
        },
        "id": "dVE7jYCJ5kMe",
        "outputId": "31846b7b-be3f-4fed-9752-330814fedddf"
      },
      "execution_count": 38,
      "outputs": [
        {
          "output_type": "stream",
          "name": "stdout",
          "text": [
            "The sql extension is already loaded. To reload it, use:\n",
            "  %reload_ext sql\n"
          ]
        }
      ]
    },
    {
      "cell_type": "code",
      "source": [
        "# Reconnect fresh\n",
        "import sqlite3\n",
        "\n",
        "conn = sqlite3.connect(\"ngo_database.db\")\n",
        "cursor = conn.cursor()\n"
      ],
      "metadata": {
        "id": "IKUsp2Xr3bMk"
      },
      "execution_count": 42,
      "outputs": []
    },
    {
      "cell_type": "code",
      "source": [
        "# Clear old data (to avoid IntegrityError on re-runs)\n",
        "cursor.execute(\"DELETE FROM Beneficiaries;\")\n",
        "cursor.execute(\"DELETE FROM Projects;\")\n",
        "cursor.execute(\"DELETE FROM Employees;\")\n",
        "cursor.execute(\"DELETE FROM Departments;\")\n",
        "conn.commit()\n"
      ],
      "metadata": {
        "id": "G4DI7i9k5OOu"
      },
      "execution_count": 44,
      "outputs": []
    },
    {
      "cell_type": "code",
      "source": [
        "import sqlite3\n",
        "\n",
        "# Connect to database (stored in Colab VM for now)\n",
        "conn = sqlite3.connect(\"ngo_database.db\")\n",
        "cursor = conn.cursor()\n",
        "\n",
        "# --- Step 1: Drop old tables if they exist ---\n",
        "cursor.execute(\"DROP TABLE IF EXISTS Beneficiaries;\")\n",
        "cursor.execute(\"DROP TABLE IF EXISTS Projects;\")\n",
        "cursor.execute(\"DROP TABLE IF EXISTS Employees;\")\n",
        "cursor.execute(\"DROP TABLE IF EXISTS Departments;\")\n",
        "\n",
        "# --- Step 2: Create fresh tables ---\n",
        "cursor.execute(\"\"\"\n",
        "CREATE TABLE Departments (\n",
        "    DepartmentID INTEGER PRIMARY KEY,\n",
        "    DepartmentName TEXT NOT NULL\n",
        ");\n",
        "\"\"\")\n",
        "\n",
        "cursor.execute(\"\"\"\n",
        "CREATE TABLE Employees (\n",
        "    EmployeeID INTEGER PRIMARY KEY,\n",
        "    Name TEXT NOT NULL,\n",
        "    Role TEXT,\n",
        "    DepartmentID INTEGER,\n",
        "    FOREIGN KEY (DepartmentID) REFERENCES Departments(DepartmentID)\n",
        ");\n",
        "\"\"\")\n",
        "\n",
        "cursor.execute(\"\"\"\n",
        "CREATE TABLE Projects (\n",
        "    ProjectID INTEGER PRIMARY KEY,\n",
        "    ProjectName TEXT NOT NULL,\n",
        "    DepartmentID INTEGER,\n",
        "    Budget REAL,\n",
        "    FOREIGN KEY (DepartmentID) REFERENCES Departments(DepartmentID)\n",
        ");\n",
        "\"\"\")\n",
        "\n",
        "cursor.execute(\"\"\"\n",
        "CREATE TABLE Beneficiaries (\n",
        "    BeneficiaryID INTEGER PRIMARY KEY,\n",
        "    Name TEXT NOT NULL,\n",
        "    ProjectID INTEGER,\n",
        "    Age INTEGER,\n",
        "    Gender TEXT,\n",
        "    Location TEXT,\n",
        "    FOREIGN KEY (ProjectID) REFERENCES Projects(ProjectID)\n",
        ");\n",
        "\"\"\")\n",
        "\n",
        "# --- Step 3: Insert sample data ---\n",
        "cursor.executemany(\"\"\"\n",
        "INSERT INTO Departments (DepartmentID, DepartmentName) VALUES (?, ?)\n",
        "\"\"\", [\n",
        "    (1, 'Education'),\n",
        "    (2, 'Healthcare'),\n",
        "    (3, 'Community Development'),\n",
        "    (4, 'Women Empowerment')\n",
        "])\n",
        "\n",
        "cursor.executemany(\"\"\"\n",
        "INSERT INTO Employees (EmployeeID, Name, Role, DepartmentID) VALUES (?, ?, ?, ?)\n",
        "\"\"\", [\n",
        "    (1, 'Alice', 'Manager', 1),\n",
        "    (2, 'Bob', 'Coordinator', 2),\n",
        "    (3, 'Charlie', 'Field Officer', 3),\n",
        "    (4, 'Diana', 'Analyst', 4),\n",
        "    (5, 'Eve', 'Trainer', 1),\n",
        "    (6, 'Frank', 'Assistant', 1),\n",
        "    (7, 'Grace', 'Volunteer', 2),\n",
        "    (8, 'Hank', 'Specialist',3)\n",
        "])\n",
        "\n",
        "cursor.executemany(\"\"\"\n",
        "INSERT INTO Projects (ProjectID, ProjectName, DepartmentID, Budget) VALUES (?, ?, ?, ?)\n",
        "\"\"\", [\n",
        "    (1, 'Literacy Program', 1, 50000),\n",
        "    (2, 'Health Camp', 2, 30000),\n",
        "    (3, 'Village Development', 3, 70000),\n",
        "    (4, 'Skill Training', 4, 40000),\n",
        "    (5, 'Digital Literacy', 1, 20000),\n",
        "    (6, 'Nutrition Drive', 2, 15000)\n",
        "])\n",
        "\n",
        "cursor.executemany(\"\"\"\n",
        "INSERT INTO Beneficiaries (BeneficiaryID, Name, ProjectID, Age, Gender, Location) VALUES (?, ?, ?, ?, ?, ?)\n",
        "\"\"\", [\n",
        "    (1, 'Ravi', 1, 12, 'Male', 'Delhi'),\n",
        "    (2, 'Sita', 2, 35, 'Female', 'Bangalore'),\n",
        "    (3, 'John', 3, 45, 'Male', 'Chennai'),\n",
        "    (4, 'Mary', 4, 28, 'Female', 'Kolkata')\n",
        "])\n",
        "\n",
        "conn.commit()\n",
        "print(\"✅ Database reset, tables created, and sample data inserted successfully!\")\n"
      ],
      "metadata": {
        "colab": {
          "base_uri": "https://localhost:8080/"
        },
        "id": "Rr1rw9A26vbl",
        "outputId": "4ad7f415-4f00-4db4-b01b-49f667cc5672"
      },
      "execution_count": 57,
      "outputs": [
        {
          "output_type": "stream",
          "name": "stdout",
          "text": [
            "✅ Database reset, tables created, and sample data inserted successfully!\n"
          ]
        }
      ]
    },
    {
      "cell_type": "code",
      "source": [
        "cursor.execute(\"SELECT name FROM sqlite_master WHERE type='table';\")\n",
        "cursor.fetchall()\n"
      ],
      "metadata": {
        "colab": {
          "base_uri": "https://localhost:8080/"
        },
        "id": "4vonQyR36vZu",
        "outputId": "7b542af4-dc1d-49be-ca34-0644c2bdc9d0"
      },
      "execution_count": 58,
      "outputs": [
        {
          "output_type": "execute_result",
          "data": {
            "text/plain": [
              "[('Departments',), ('Employees',), ('Projects',), ('Beneficiaries',)]"
            ]
          },
          "metadata": {},
          "execution_count": 58
        }
      ]
    },
    {
      "cell_type": "code",
      "source": [
        "cursor.execute(\"SELECT * FROM Departments;\")\n",
        "print(cursor.fetchall())\n",
        "\n",
        "cursor.execute(\"SELECT * FROM Employees;\")\n",
        "print(cursor.fetchall())\n",
        "\n",
        "cursor.execute(\"SELECT * FROM Projects;\")\n",
        "print(cursor.fetchall())\n"
      ],
      "metadata": {
        "colab": {
          "base_uri": "https://localhost:8080/"
        },
        "id": "LopEw2gF6vXm",
        "outputId": "1340624f-6e99-45eb-a3ba-27d74283f509"
      },
      "execution_count": 59,
      "outputs": [
        {
          "output_type": "stream",
          "name": "stdout",
          "text": [
            "[(1, 'Education'), (2, 'Healthcare'), (3, 'Community Development'), (4, 'Women Empowerment')]\n",
            "[(1, 'Alice', 'Manager', 1), (2, 'Bob', 'Coordinator', 2), (3, 'Charlie', 'Field Officer', 3), (4, 'Diana', 'Analyst', 4), (5, 'Eve', 'Trainer', 1), (6, 'Frank', 'Assistant', 1), (7, 'Grace', 'Volunteer', 2), (8, 'Hank', 'Specialist', 3)]\n",
            "[(1, 'Literacy Program', 1, 50000.0), (2, 'Health Camp', 2, 30000.0), (3, 'Village Development', 3, 70000.0), (4, 'Skill Training', 4, 40000.0), (5, 'Digital Literacy', 1, 20000.0), (6, 'Nutrition Drive', 2, 15000.0)]\n"
          ]
        }
      ]
    },
    {
      "cell_type": "code",
      "source": [
        "cursor.execute(\"\"\"\n",
        "SELECT d.DepartmentName, COUNT(e.EmployeeID) AS EmployeeCount\n",
        "FROM Employees e\n",
        "JOIN Departments d ON e.DepartmentID = d.DepartmentID\n",
        "GROUP BY d.DepartmentName;\n",
        "\"\"\")\n",
        "\n",
        "results = cursor.fetchall()\n",
        "for row in results:\n",
        "    print(row)"
      ],
      "metadata": {
        "colab": {
          "base_uri": "https://localhost:8080/"
        },
        "id": "vlIONs4c7R6J",
        "outputId": "4d9da010-210c-4788-9fcc-cd40bd0f5f58"
      },
      "execution_count": 60,
      "outputs": [
        {
          "output_type": "stream",
          "name": "stdout",
          "text": [
            "('Community Development', 2)\n",
            "('Education', 3)\n",
            "('Healthcare', 2)\n",
            "('Women Empowerment', 1)\n"
          ]
        }
      ]
    },
    {
      "cell_type": "code",
      "source": [
        "cursor.execute(\"\"\"\n",
        "SELECT d.DepartmentName, COUNT(e.EmployeeID) AS EmployeeCount\n",
        "FROM Employees e\n",
        "JOIN Departments d ON e.DepartmentID = d.DepartmentID\n",
        "GROUP BY d.DepartmentName;\n",
        "\"\"\")\n",
        "\n",
        "results = cursor.fetchall()\n",
        "for row in results:\n",
        "    print(row)\n",
        "\n",
        "\n",
        "results = cursor.fetchall()\n",
        "for row in results:\n",
        "    print(row)\n"
      ],
      "metadata": {
        "colab": {
          "base_uri": "https://localhost:8080/"
        },
        "id": "wQ0ZT6g07R35",
        "outputId": "0f08eda7-1e4f-498a-ad83-ebefd821a67c"
      },
      "execution_count": 61,
      "outputs": [
        {
          "output_type": "stream",
          "name": "stdout",
          "text": [
            "('Community Development', 2)\n",
            "('Education', 3)\n",
            "('Healthcare', 2)\n",
            "('Women Empowerment', 1)\n"
          ]
        }
      ]
    },
    {
      "cell_type": "code",
      "source": [
        "cursor.execute(\"\"\"\n",
        "SELECT d.DepartmentName, COUNT(p.ProjectID) AS ProjectCount\n",
        "FROM Projects p\n",
        "JOIN Departments d ON p.DepartmentID = d.DepartmentID\n",
        "GROUP BY d.DepartmentName;\n",
        "\"\"\")\n",
        "\n",
        "results = cursor.fetchall()\n",
        "for row in results:\n",
        "    print(row)"
      ],
      "metadata": {
        "colab": {
          "base_uri": "https://localhost:8080/"
        },
        "id": "w1gs2zvJ7R1h",
        "outputId": "745bfd03-6fc0-4166-a92e-4ee0738af02c"
      },
      "execution_count": 62,
      "outputs": [
        {
          "output_type": "stream",
          "name": "stdout",
          "text": [
            "('Community Development', 1)\n",
            "('Education', 2)\n",
            "('Healthcare', 2)\n",
            "('Women Empowerment', 1)\n"
          ]
        }
      ]
    },
    {
      "cell_type": "code",
      "source": [
        "cursor.execute(\"\"\"\n",
        "SELECT\n",
        "    d.DepartmentName,\n",
        "    COUNT(DISTINCT e.EmployeeID) AS EmployeeCount,\n",
        "    COUNT(DISTINCT p.ProjectID) AS ProjectCount\n",
        "FROM Departments d\n",
        "LEFT JOIN Employees e ON d.DepartmentID = e.DepartmentID\n",
        "LEFT JOIN Projects p ON d.DepartmentID = p.DepartmentID\n",
        "GROUP BY d.DepartmentName;\n",
        "\"\"\")\n",
        "\n",
        "results = cursor.fetchall()\n",
        "for row in results:\n",
        "    print(row)"
      ],
      "metadata": {
        "colab": {
          "base_uri": "https://localhost:8080/"
        },
        "id": "48LNfUdT7Ryh",
        "outputId": "6132b6e9-256e-4e37-9d53-913cc4f74060"
      },
      "execution_count": 63,
      "outputs": [
        {
          "output_type": "stream",
          "name": "stdout",
          "text": [
            "('Community Development', 2, 1)\n",
            "('Education', 3, 2)\n",
            "('Healthcare', 2, 2)\n",
            "('Women Empowerment', 1, 1)\n"
          ]
        }
      ]
    },
    {
      "cell_type": "code",
      "source": [
        "import pandas as pd\n",
        "\n",
        "# Run the query\n",
        "cursor.execute(\"\"\"\n",
        "SELECT\n",
        "    d.DepartmentName,\n",
        "    COUNT(DISTINCT e.EmployeeID) AS EmployeeCount,\n",
        "    COUNT(DISTINCT p.ProjectID) AS ProjectCount\n",
        "FROM Departments d\n",
        "LEFT JOIN Employees e ON d.DepartmentID = e.DepartmentID\n",
        "LEFT JOIN Projects p ON d.DepartmentID = p.DepartmentID\n",
        "GROUP BY d.DepartmentName;\n",
        "\"\"\")\n",
        "\n",
        "# Fetch results and column names\n",
        "results = cursor.fetchall()\n",
        "columns = [desc[0] for desc in cursor.description]\n",
        "\n",
        "# Convert to Pandas DataFrame\n",
        "df = pd.DataFrame(results, columns=columns)\n",
        "\n",
        "# Display as a table\n",
        "print(df)\n"
      ],
      "metadata": {
        "colab": {
          "base_uri": "https://localhost:8080/"
        },
        "id": "MHIsYMOJAASK",
        "outputId": "5e1497e9-7169-46c2-c4f0-4e2a9361db1d"
      },
      "execution_count": 64,
      "outputs": [
        {
          "output_type": "stream",
          "name": "stdout",
          "text": [
            "          DepartmentName  EmployeeCount  ProjectCount\n",
            "0  Community Development              2             1\n",
            "1              Education              3             2\n",
            "2             Healthcare              2             2\n",
            "3      Women Empowerment              1             1\n"
          ]
        }
      ]
    },
    {
      "cell_type": "code",
      "source": [
        "import matplotlib.pyplot as plt\n",
        "\n",
        "# Run the query again\n",
        "cursor.execute(\"\"\"\n",
        "SELECT d.DepartmentName, COUNT(e.EmployeeID) AS EmployeeCount\n",
        "FROM Departments d\n",
        "LEFT JOIN Employees e ON d.DepartmentID = e.DepartmentID\n",
        "GROUP BY d.DepartmentName;\n",
        "\"\"\")\n",
        "\n",
        "# Fetch into pandas DataFrame\n",
        "df = pd.DataFrame(cursor.fetchall(), columns=[\"Department\", \"EmployeeCount\"])\n",
        "\n",
        "# Display the DataFrame\n",
        "print(df)\n",
        "\n",
        "# Plot a bar chart\n",
        "plt.figure(figsize=(6,4))\n",
        "plt.bar(df[\"Department\"], df[\"EmployeeCount\"])\n",
        "plt.title(\"Number of Employees per Department\")\n",
        "plt.xlabel(\"Department\")\n",
        "plt.ylabel(\"Employee Count\")\n",
        "plt.xticks(rotation=20)\n",
        "plt.show()\n"
      ],
      "metadata": {
        "colab": {
          "base_uri": "https://localhost:8080/",
          "height": 557
        },
        "id": "tLF_r7_HALMc",
        "outputId": "a0afab32-6d85-4822-904b-62ed340e8d2c"
      },
      "execution_count": 65,
      "outputs": [
        {
          "output_type": "stream",
          "name": "stdout",
          "text": [
            "              Department  EmployeeCount\n",
            "0  Community Development              2\n",
            "1              Education              3\n",
            "2             Healthcare              2\n",
            "3      Women Empowerment              1\n"
          ]
        },
        {
          "output_type": "display_data",
          "data": {
            "text/plain": [
              "<Figure size 600x400 with 1 Axes>"
            ],
            "image/png": "[encoded data removed]"
          },
          "metadata": {}
        }
      ]
    },
    {
      "cell_type": "markdown",
      "source": [
        "-----\n"
      ],
      "metadata": {
        "id": "MlJAmEvcBDDN"
      }
    },
    {
      "cell_type": "markdown",
      "source": [
        "# Queries for **Reports**"
      ],
      "metadata": {
        "id": "a7tF7bjDAfw1"
      }
    },
    {
      "cell_type": "markdown",
      "source": [
        "# New section"
      ],
      "metadata": {
        "id": "FWbj3IWjArVf"
      }
    },
    {
      "cell_type": "markdown",
      "source": [
        "# New section"
      ],
      "metadata": {
        "id": "6LUfuKSyAhei"
      }
    },
    {
      "cell_type": "markdown",
      "source": [],
      "metadata": {
        "id": "2O002I0tAAF6"
      }
    }
  ]
}